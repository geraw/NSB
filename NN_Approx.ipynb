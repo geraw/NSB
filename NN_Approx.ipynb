{
  "nbformat": 4,
  "nbformat_minor": 0,
  "metadata": {
    "colab": {
      "provenance": [],
      "machine_shape": "hm",
      "gpuType": "A100"
    },
    "kernelspec": {
      "name": "python3",
      "display_name": "Python 3"
    },
    "language_info": {
      "name": "python"
    },
    "accelerator": "GPU"
  },
  "cells": [
    {
      "cell_type": "code",
      "source": [
        "import torch\n",
        "import torch.nn as nn\n",
        "import torch.optim as optim\n",
        "\n",
        "# Get cpu, gpu or mps device for training.\n",
        "device = (\n",
        "    \"cuda\"\n",
        "    if torch.cuda.is_available()\n",
        "    else \"mps\"\n",
        "    if torch.backends.mps.is_available()\n",
        "    else \"cpu\"\n",
        ")\n",
        "print(f\"Using {device} device\")"
      ],
      "metadata": {
        "colab": {
          "base_uri": "https://localhost:8080/"
        },
        "id": "lGpbJr_462RZ",
        "outputId": "f503f286-a6d5-45a8-86ca-0a46aac8af47"
      },
      "execution_count": null,
      "outputs": [
        {
          "output_type": "stream",
          "name": "stdout",
          "text": [
            "Using cuda device\n"
          ]
        }
      ]
    },
    {
      "cell_type": "markdown",
      "source": [
        "# Set the dimensions of the vectors and matrices"
      ],
      "metadata": {
        "id": "gmja_p3JEBcy"
      }
    },
    {
      "cell_type": "code",
      "source": [
        "n = 3  # Dimension of vector p\n",
        "m = 4  # Dimension of vector v\n",
        "l = 5  # Dimension of output J(p)v\n",
        "\n",
        "batch_size = 200  # Batch size for training"
      ],
      "metadata": {
        "id": "-17b6bmHCoWo"
      },
      "execution_count": null,
      "outputs": []
    },
    {
      "cell_type": "markdown",
      "source": [
        "# Generate training data"
      ],
      "metadata": {
        "id": "Uzj1wVrCEHYs"
      }
    },
    {
      "cell_type": "code",
      "source": [
        "num_samples = 2000\n",
        "p = torch.randn(num_samples, n)\n",
        "v = torch.randn(num_samples, m)\n",
        "\n",
        "# Define the known mapping J'(p) as a function depending nonlinearly on p\n",
        "def J_prime(p):\n",
        "    # Replace with your own implementation of J_prime\n",
        "    # This is just an example\n",
        "    matrix = torch.zeros(l, m)\n",
        "    for i in range(l):\n",
        "        for j in range(m):\n",
        "            matrix[i, j] = p[i % n] * p[j % n]\n",
        "    return matrix\n",
        "\n",
        "def f(p, v):\n",
        "    return torch.matmul(J_prime(p), v.unsqueeze(-1)).squeeze(-1)\n",
        "\n",
        "# Generate fpv using J'(p) and v\n",
        "fpv = torch.stack([f(p[i], v[i]) for i in range(num_samples)], dim=0)\n",
        "fpv = fpv.unsqueeze(1)  # Add the extra dimension"
      ],
      "metadata": {
        "id": "LX0w6oDQCR94"
      },
      "execution_count": null,
      "outputs": []
    },
    {
      "cell_type": "code",
      "source": [
        "# Define the architecture of the neural network\n",
        "class FunctionApproximator(nn.Module):\n",
        "    def __init__(self):\n",
        "        super(FunctionApproximator, self).__init__()\n",
        "        self.create_mat = nn.Sequential(\n",
        "            nn.Linear(n, n),\n",
        "            nn.ReLU(),\n",
        "            nn.Linear(n, l * m),\n",
        "            nn.ReLU(),\n",
        "        )\n",
        "        for module in self.create_mat.modules():\n",
        "            if isinstance(module, nn.Linear):\n",
        "                nn.init.xavier_uniform_(module.weight)\n",
        "                nn.init.zeros_(module.bias)\n",
        "\n",
        "    def forward(self, p, v):\n",
        "        output = self.create_mat(p)\n",
        "\n",
        "        # Reshape the output into the desired matrix shape\n",
        "        self.matrix = output.view(-1, l, m)\n",
        "\n",
        "        # Multiply the matrix by v\n",
        "        output = torch.bmm(self.matrix, v.unsqueeze(-1)).squeeze(-1)\n",
        "\n",
        "        return output\n",
        "\n",
        "model = FunctionApproximator()\n",
        "\n",
        "# Define the loss function\n",
        "criterion = nn.MSELoss()\n",
        "\n",
        "# Define the optimizer\n",
        "optimizer = optim.SGD(model.parameters(), lr=0.01)\n",
        "\n",
        "# Convert data to batches\n",
        "num_batches = num_samples // batch_size\n",
        "p_batches = torch.split(p[:num_batches * batch_size], batch_size)\n",
        "v_batches = torch.split(v[:num_batches * batch_size], batch_size)\n",
        "fpv_batches = torch.split(fpv[:num_batches * batch_size], batch_size)\n",
        "\n",
        "# Training loop\n",
        "num_epochs = 1000\n",
        "for epoch in range(num_epochs):\n",
        "    total_loss = 0.0\n",
        "    for batch in range(num_batches):\n",
        "        # Forward pass\n",
        "        outputs = model(p_batches[batch], v_batches[batch])\n",
        "\n",
        "        # Compute the loss\n",
        "        loss = criterion(outputs, fpv_batches[batch])\n",
        "        total_loss += loss.item()\n",
        "\n",
        "        # Backward pass and optimization\n",
        "        optimizer.zero_grad()\n",
        "        loss.backward()\n",
        "        optimizer.step()\n",
        "\n",
        "    # Print progress\n",
        "    if (epoch + 1) % 100 == 0:\n",
        "        avg_loss = total_loss / num_batches\n",
        "        print(f\"Epoch {epoch + 1}/{num_epochs}, Loss: {avg_loss}\")"
      ],
      "metadata": {
        "colab": {
          "base_uri": "https://localhost:8080/"
        },
        "id": "-O8FFjT89Ry-",
        "outputId": "7c480c7d-a8d1-4e3d-d48b-a5ff8f6a146c"
      },
      "execution_count": null,
      "outputs": [
        {
          "output_type": "stream",
          "name": "stdout",
          "text": [
            "Epoch 100/1000, Loss: 6.786809778213501\n",
            "Epoch 200/1000, Loss: 6.786109733581543\n",
            "Epoch 300/1000, Loss: 6.785980892181397\n",
            "Epoch 400/1000, Loss: 6.785937738418579\n",
            "Epoch 500/1000, Loss: 6.785919952392578\n",
            "Epoch 600/1000, Loss: 6.785910415649414\n",
            "Epoch 700/1000, Loss: 6.785904598236084\n",
            "Epoch 800/1000, Loss: 6.785901021957398\n",
            "Epoch 900/1000, Loss: 6.7858963966369625\n",
            "Epoch 1000/1000, Loss: 6.785892152786255\n"
          ]
        }
      ]
    },
    {
      "cell_type": "code",
      "source": [
        "# Evaluation\n",
        "with torch.no_grad():\n",
        "    # Generate test data\n",
        "    test_p = torch.randn(1, n)\n",
        "    test_v = torch.randn(1, m)\n",
        "\n",
        "    # Apply the trained model to compute J(p)v\n",
        "    Jpv = model(test_p, test_v)\n",
        "\n",
        "    # Print the result\n",
        "    print(\"Approximated J(p)v:\")\n",
        "    print(Jpv.squeeze())\n",
        "\n",
        "    print(\"Real f(p,v):\")\n",
        "    print(f(test_p[0],test_v[0]))\n",
        "\n",
        "    # Extract the internal matrix produced for specific p\n",
        "    print(model.matrix)\n",
        "\n"
      ],
      "metadata": {
        "colab": {
          "base_uri": "https://localhost:8080/"
        },
        "id": "Ed-UjbyqwPpX",
        "outputId": "cdd32fc8-6da9-480d-a4d8-5eb58b2cf55e"
      },
      "execution_count": null,
      "outputs": [
        {
          "output_type": "stream",
          "name": "stdout",
          "text": [
            "Approximated J(p)v:\n",
            "tensor([0., 0., 0., 0., 0.])\n",
            "Real f(p,v):\n",
            "tensor([-0.1103,  0.0423,  0.0523, -0.1103,  0.0423])\n",
            "tensor([[[0., 0., 0., 0.],\n",
            "         [0., 0., 0., 0.],\n",
            "         [0., 0., 0., 0.],\n",
            "         [0., 0., 0., 0.],\n",
            "         [0., 0., 0., 0.]]])\n"
          ]
        }
      ]
    },
    {
      "cell_type": "code",
      "source": [],
      "metadata": {
        "id": "gogxxn0g-zg4"
      },
      "execution_count": null,
      "outputs": []
    }
  ]
}